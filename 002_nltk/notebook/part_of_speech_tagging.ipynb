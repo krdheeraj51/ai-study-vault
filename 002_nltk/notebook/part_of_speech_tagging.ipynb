{
 "cells": [
  {
   "cell_type": "markdown",
   "id": "1fc9eb15",
   "metadata": {},
   "source": [
    "### Part of  Speech Tagging using nltk\n",
    "---\n",
    "\n",
    "The process of classifying words into their parts of speech and labeling them accordingly is known as part-of-speech tagging, POS-tagging, or simply tagging. Parts of speech are also known as word classes or lexical categories. The collection of tags used for a particular task is known as a tagset. Our emphasis in this chapter is on exploiting tags, and tagging text automatically\n",
    "\n",
    "---\n",
    "\n",
    "A part-of-speech tagger, or POS-tagger, processes a sequence of words, and attaches a part of speech tag to each word \n",
    "\n",
    "**Reference :** https://www.nltk.org/book/ch05.html "
   ]
  },
  {
   "cell_type": "code",
   "execution_count": 1,
   "id": "d88e8c29",
   "metadata": {},
   "outputs": [],
   "source": [
    "from nltk.tokenize import word_tokenize"
   ]
  },
  {
   "cell_type": "code",
   "execution_count": null,
   "id": "65f59d25",
   "metadata": {},
   "outputs": [],
   "source": [
    "import nltk\n",
    "nltk.download('punkt')\n",
    "nltk.download('averaged_perceptron_tagger')\n",
    "nltk.download('maxent_ne_chunker')\n",
    "nltk.download('words')\n"
   ]
  },
  {
   "cell_type": "code",
   "execution_count": 4,
   "id": "5de41d72",
   "metadata": {},
   "outputs": [
    {
     "name": "stdout",
     "output_type": "stream",
     "text": [
      "['And', 'now', 'for', 'something', 'completely', 'different']\n",
      "[('And', 'CC'), ('now', 'RB'), ('for', 'IN'), ('something', 'NN'), ('completely', 'RB'), ('different', 'JJ')]\n"
     ]
    }
   ],
   "source": [
    "      \n",
    "# nltk.download('averaged_perceptron_tagger_eng')\n",
    "text = word_tokenize(\"And now for something completely different\")\n",
    "word_tag = nltk.pos_tag(text)\n",
    "print(text)\n",
    "print(word_tag)"
   ]
  }
 ],
 "metadata": {
  "kernelspec": {
   "display_name": "base",
   "language": "python",
   "name": "python3"
  },
  "language_info": {
   "codemirror_mode": {
    "name": "ipython",
    "version": 3
   },
   "file_extension": ".py",
   "mimetype": "text/x-python",
   "name": "python",
   "nbconvert_exporter": "python",
   "pygments_lexer": "ipython3",
   "version": "3.13.5"
  }
 },
 "nbformat": 4,
 "nbformat_minor": 5
}
