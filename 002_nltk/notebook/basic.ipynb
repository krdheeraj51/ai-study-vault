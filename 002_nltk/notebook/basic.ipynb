{
 "cells": [
  {
   "cell_type": "markdown",
   "id": "9920bb74",
   "metadata": {},
   "source": [
    "# import nltk packages\n"
   ]
  },
  {
   "cell_type": "code",
   "execution_count": 1,
   "id": "2b2a611a",
   "metadata": {},
   "outputs": [],
   "source": [
    "from nltk.tokenize import sent_tokenize"
   ]
  },
  {
   "cell_type": "markdown",
   "id": "0769bfb7",
   "metadata": {},
   "source": [
    "### Define variable"
   ]
  },
  {
   "cell_type": "code",
   "execution_count": 2,
   "id": "24e1f2a3",
   "metadata": {},
   "outputs": [],
   "source": [
    "corpus = \"\"\"Lorem Ipsum is simply dummy text of the printing and typesetting industry. Lorem Ipsum has been the industry's standard dummy text ever since the 1500s, when an unknown printer took a galley of type and scrambled it to make a type specimen book. It has survived not only five centuries, but also the leap into electronic typesetting, remaining essentially unchanged. It was popularised in the 1960s with the release of Letraset sheets containing Lorem Ipsum passages, and more recently with desktop publishing software like Aldus PageMaker including versions of Lorem Ipsum.\"\"\""
   ]
  },
  {
   "cell_type": "markdown",
   "id": "162dba18",
   "metadata": {},
   "source": [
    "### Return a sentence-tokenized copy of text, using NLTK’s recommended sentence tokenizer (currently PunktSentenceTokenizer for the specified language)."
   ]
  },
  {
   "cell_type": "code",
   "execution_count": 3,
   "id": "129f6866",
   "metadata": {},
   "outputs": [
    {
     "name": "stdout",
     "output_type": "stream",
     "text": [
      "['Lorem Ipsum is simply dummy text of the printing and typesetting industry.', \"Lorem Ipsum has been the industry's standard dummy text ever since the 1500s, when an unknown printer took a galley of type and scrambled it to make a type specimen book.\", 'It has survived not only five centuries, but also the leap into electronic typesetting, remaining essentially unchanged.', 'It was popularised in the 1960s with the release of Letraset sheets containing Lorem Ipsum passages, and more recently with desktop publishing software like Aldus PageMaker including versions of Lorem Ipsum.']\n"
     ]
    }
   ],
   "source": [
    "token = sent_tokenize(corpus)\n",
    "print(token)"
   ]
  }
 ],
 "metadata": {
  "kernelspec": {
   "display_name": "base",
   "language": "python",
   "name": "python3"
  },
  "language_info": {
   "codemirror_mode": {
    "name": "ipython",
    "version": 3
   },
   "file_extension": ".py",
   "mimetype": "text/x-python",
   "name": "python",
   "nbconvert_exporter": "python",
   "pygments_lexer": "ipython3",
   "version": "3.13.5"
  }
 },
 "nbformat": 4,
 "nbformat_minor": 5
}
