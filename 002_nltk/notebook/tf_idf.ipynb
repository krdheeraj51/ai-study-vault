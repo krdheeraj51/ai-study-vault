{
 "cells": [
  {
   "cell_type": "markdown",
   "id": "a1b9d025",
   "metadata": {},
   "source": [
    "### TF-IDF \n",
    "---\n",
    "\n",
    "Weighs words based on their importance in a document relative to a corpus\n",
    "\n",
    "---"
   ]
  },
  {
   "cell_type": "code",
   "execution_count": 1,
   "id": "0ce4ca85",
   "metadata": {},
   "outputs": [
    {
     "name": "stdout",
     "output_type": "stream",
     "text": [
      "[[0.70490949 0.50154891 0.50154891 0.        ]\n",
      " [0.         0.50154891 0.50154891 0.70490949]]\n",
      "['fun' 'is' 'nlp' 'powerful']\n"
     ]
    }
   ],
   "source": [
    "from sklearn.feature_extraction.text import TfidfVectorizer\n",
    "corpus=  [\"NLP is fun.\",\"NLP is powerful.\"]\n",
    "vectorizer= TfidfVectorizer()\n",
    "x= vectorizer.fit_transform(corpus)\n",
    "print(x.toarray())\n",
    "print(vectorizer.get_feature_names_out())"
   ]
  }
 ],
 "metadata": {
  "kernelspec": {
   "display_name": "base",
   "language": "python",
   "name": "python3"
  },
  "language_info": {
   "codemirror_mode": {
    "name": "ipython",
    "version": 3
   },
   "file_extension": ".py",
   "mimetype": "text/x-python",
   "name": "python",
   "nbconvert_exporter": "python",
   "pygments_lexer": "ipython3",
   "version": "3.13.5"
  }
 },
 "nbformat": 4,
 "nbformat_minor": 5
}
