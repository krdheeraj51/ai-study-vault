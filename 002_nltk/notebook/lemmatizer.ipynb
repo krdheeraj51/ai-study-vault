{
 "cells": [
  {
   "cell_type": "markdown",
   "id": "c236ee96",
   "metadata": {},
   "source": [
    "**Lemmatization** is the process of converting a word to its base form. \n",
    "\n",
    "The difference between **stemming** and **lemmatization** is, **lemmatization** considers the context and converts the word to its meaningful base form, whereas **stemming** just removes the last few characters, often leading to incorrect meanings and spelling errors."
   ]
  },
  {
   "cell_type": "code",
   "execution_count": 22,
   "id": "0252df76",
   "metadata": {},
   "outputs": [],
   "source": [
    "from nltk.stem import WordNetLemmatizer"
   ]
  },
  {
   "cell_type": "markdown",
   "id": "c253a1ac",
   "metadata": {},
   "source": [
    "#### Install wordnet\n"
   ]
  },
  {
   "cell_type": "code",
   "execution_count": 23,
   "id": "ea7c1bde",
   "metadata": {},
   "outputs": [
    {
     "name": "stderr",
     "output_type": "stream",
     "text": [
      "[nltk_data] Downloading package wordnet to\n",
      "[nltk_data]     C:\\Users\\krdhe\\AppData\\Roaming\\nltk_data...\n",
      "[nltk_data]   Package wordnet is already up-to-date!\n"
     ]
    },
    {
     "data": {
      "text/plain": [
       "True"
      ]
     },
     "execution_count": 23,
     "metadata": {},
     "output_type": "execute_result"
    }
   ],
   "source": [
    "import nltk\n",
    "nltk.download('wordnet')"
   ]
  },
  {
   "cell_type": "code",
   "execution_count": 24,
   "id": "3055d49c",
   "metadata": {},
   "outputs": [],
   "source": [
    "words = words = [\"running\", \"jumping\", \"flies\", \"happily\", \"agreed\",\n",
    "    \"studies\", \"boxes\", \"talking\", \"argued\", \"dancing\",\n",
    "    \"crying\", \"flying\", \"happiness\", \"played\", \"singer\",\n",
    "    \"fishing\", \"dogs\", \"loving\", \"terribly\", \"working\",\n",
    "    \"watching\", \"coded\", \"married\", \"swimming\", \"typing\"\n",
    "]"
   ]
  },
  {
   "cell_type": "code",
   "execution_count": 25,
   "id": "d8c1ca09",
   "metadata": {},
   "outputs": [],
   "source": [
    "lemmatizer= WordNetLemmatizer()"
   ]
  },
  {
   "cell_type": "code",
   "execution_count": null,
   "id": "28c93d13",
   "metadata": {},
   "outputs": [],
   "source": []
  },
  {
   "cell_type": "code",
   "execution_count": 26,
   "id": "3eb63c52",
   "metadata": {},
   "outputs": [
    {
     "name": "stdout",
     "output_type": "stream",
     "text": [
      "running------------------>running\n",
      "jumping------------------>jumping\n",
      "flies------------------>fly\n",
      "happily------------------>happily\n",
      "agreed------------------>agreed\n",
      "studies------------------>study\n",
      "boxes------------------>box\n",
      "talking------------------>talking\n",
      "argued------------------>argued\n",
      "dancing------------------>dancing\n",
      "crying------------------>cry\n",
      "flying------------------>flying\n",
      "happiness------------------>happiness\n",
      "played------------------>played\n",
      "singer------------------>singer\n",
      "fishing------------------>fishing\n",
      "dogs------------------>dog\n",
      "loving------------------>loving\n",
      "terribly------------------>terribly\n",
      "working------------------>working\n",
      "watching------------------>watching\n",
      "coded------------------>coded\n",
      "married------------------>married\n",
      "swimming------------------>swimming\n",
      "typing------------------>typing\n"
     ]
    }
   ],
   "source": [
    "for word in words:\n",
    "    print(word + \"------------------>\" + lemmatizer.lemmatize(word))"
   ]
  },
  {
   "cell_type": "markdown",
   "id": "cad5e078",
   "metadata": {},
   "source": [
    "#### Understanding POS Tags in Lemmatization\n",
    "\n",
    "**Lemmatization** in NLP is highly dependent on the part of speech (POS) assigned to a word. When using a lemmatizer, it's important to provide the correct POS tag to achieve accurate results.\n",
    "\n",
    "Here's a quick reference for common POS tags used in lemmatization:\n",
    "\n",
    "- `'n'` → Noun  \n",
    "- `'v'` → Verb  \n",
    "- `'a'` → Adjective  \n",
    "- `'r'` → Adverb\n",
    "\n",
    "Passing the correct POS tag helps the lemmatizer understand the context of the word, resulting in better lemmatized outputs."
   ]
  },
  {
   "cell_type": "code",
   "execution_count": 27,
   "id": "0e2711a7",
   "metadata": {},
   "outputs": [
    {
     "name": "stdout",
     "output_type": "stream",
     "text": [
      "running------------------>run\n",
      "jumping------------------>jump\n",
      "flies------------------>fly\n",
      "happily------------------>happily\n",
      "agreed------------------>agree\n",
      "studies------------------>study\n",
      "boxes------------------>box\n",
      "talking------------------>talk\n",
      "argued------------------>argue\n",
      "dancing------------------>dance\n",
      "crying------------------>cry\n",
      "flying------------------>fly\n",
      "happiness------------------>happiness\n",
      "played------------------>play\n",
      "singer------------------>singer\n",
      "fishing------------------>fish\n",
      "dogs------------------>dog\n",
      "loving------------------>love\n",
      "terribly------------------>terribly\n",
      "working------------------>work\n",
      "watching------------------>watch\n",
      "coded------------------>cod\n",
      "married------------------>marry\n",
      "swimming------------------>swim\n",
      "typing------------------>type\n"
     ]
    }
   ],
   "source": [
    "for word in words:\n",
    "    print(word + \"------------------>\" + lemmatizer.lemmatize(word, pos='v'))"
   ]
  }
 ],
 "metadata": {
  "kernelspec": {
   "display_name": "base",
   "language": "python",
   "name": "python3"
  },
  "language_info": {
   "codemirror_mode": {
    "name": "ipython",
    "version": 3
   },
   "file_extension": ".py",
   "mimetype": "text/x-python",
   "name": "python",
   "nbconvert_exporter": "python",
   "pygments_lexer": "ipython3",
   "version": "3.13.5"
  }
 },
 "nbformat": 4,
 "nbformat_minor": 5
}
