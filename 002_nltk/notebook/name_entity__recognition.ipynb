{
 "cells": [
  {
   "cell_type": "markdown",
   "id": "8a5cdda4",
   "metadata": {},
   "source": [
    "### Named Entity Recognition (NER) using nltk\n",
    "---\n",
    "\n",
    "NER is the process of identifying and classifying named entities in text into predefined categories like:\n",
    "\n",
    "* Person: \"Elon Musk\"\n",
    "\n",
    "* Organization: \"Google\"\n",
    "\n",
    "* Location: \"India\"\n",
    "\n",
    "* Date/Time: \"June 2025\"\n",
    "\n",
    "---"
   ]
  },
  {
   "cell_type": "code",
   "execution_count": null,
   "id": "7db3aa50",
   "metadata": {},
   "outputs": [],
   "source": [
    "import nltk\n",
    "nltk.download('maxent_ne_chunker_tab')\n",
    "from nltk import word_tokenize,pos_tag,ne_chunk\n",
    "sentence = \"Apple Inc. was founded by Steve Jobs in Callifornia.\"\n",
    "tokens = word_tokenize(sentence)\n",
    "tags= pos_tag(tokens)\n",
    "tree= ne_chunk(tags)\n",
    "tree.draw()\n"
   ]
  },
  {
   "cell_type": "markdown",
   "id": "9fca787e",
   "metadata": {},
   "source": [
    "![Named Entity Recognition Example](images/name_entity.jpg)"
   ]
  }
 ],
 "metadata": {
  "kernelspec": {
   "display_name": "base",
   "language": "python",
   "name": "python3"
  },
  "language_info": {
   "codemirror_mode": {
    "name": "ipython",
    "version": 3
   },
   "file_extension": ".py",
   "mimetype": "text/x-python",
   "name": "python",
   "nbconvert_exporter": "python",
   "pygments_lexer": "ipython3",
   "version": "3.13.5"
  }
 },
 "nbformat": 4,
 "nbformat_minor": 5
}
