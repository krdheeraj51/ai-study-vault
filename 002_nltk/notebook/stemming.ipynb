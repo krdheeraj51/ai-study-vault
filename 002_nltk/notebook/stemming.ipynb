{
 "cells": [
  {
   "cell_type": "markdown",
   "id": "ea19d238",
   "metadata": {},
   "source": [
    "**Stemming** is the process of producing morphological variants of a root/base word. Stemming programs are commonly referred to as stemming algorithms or stemmers. A stemming algorithm reduces the words “chocolates”, “chocolatey”, and “choco” to the root word, “chocolate” and “retrieval”, “retrieved”, “retrieves” reduce to the stem “retrieve”."
   ]
  },
  {
   "cell_type": "code",
   "execution_count": 49,
   "id": "1dc41e78",
   "metadata": {},
   "outputs": [],
   "source": [
    "# Example words for stemming\n",
    "words = words = [\"running\", \"jumping\", \"flies\", \"happily\", \"agreed\",\n",
    "    \"studies\", \"boxes\", \"talking\", \"argued\", \"dancing\",\n",
    "    \"crying\", \"flying\", \"happiness\", \"played\", \"singer\",\n",
    "    \"fishing\", \"dogs\", \"loving\", \"terribly\", \"working\",\n",
    "    \"watching\", \"coded\", \"married\", \"swimming\", \"typing\"\n",
    "]\n"
   ]
  },
  {
   "cell_type": "markdown",
   "id": "f0577834",
   "metadata": {},
   "source": [
    "### PorterStemmer"
   ]
  },
  {
   "cell_type": "code",
   "execution_count": 50,
   "id": "cff0f119",
   "metadata": {},
   "outputs": [],
   "source": [
    "from nltk.stem import PorterStemmer"
   ]
  },
  {
   "cell_type": "code",
   "execution_count": 51,
   "id": "27d6a1df",
   "metadata": {},
   "outputs": [],
   "source": [
    "stemming = PorterStemmer()"
   ]
  },
  {
   "cell_type": "code",
   "execution_count": 52,
   "id": "8e31c2ab",
   "metadata": {},
   "outputs": [
    {
     "name": "stdout",
     "output_type": "stream",
     "text": [
      "running------------------>run\n",
      "jumping------------------>jump\n",
      "flies------------------>fli\n",
      "happily------------------>happili\n",
      "agreed------------------>agre\n",
      "studies------------------>studi\n",
      "boxes------------------>box\n",
      "talking------------------>talk\n",
      "argued------------------>argu\n",
      "dancing------------------>danc\n",
      "crying------------------>cri\n",
      "flying------------------>fli\n",
      "happiness------------------>happi\n",
      "played------------------>play\n",
      "singer------------------>singer\n",
      "fishing------------------>fish\n",
      "dogs------------------>dog\n",
      "loving------------------>love\n",
      "terribly------------------>terribl\n",
      "working------------------>work\n",
      "watching------------------>watch\n",
      "coded------------------>code\n",
      "married------------------>marri\n",
      "swimming------------------>swim\n",
      "typing------------------>type\n"
     ]
    }
   ],
   "source": [
    "for word in words:\n",
    "    print(word + \"------------------>\"+ stemming.stem(word))\n"
   ]
  },
  {
   "cell_type": "markdown",
   "id": "eb6d01a9",
   "metadata": {},
   "source": [
    "**NLTK** has **RegexpStemmer** class with the help of which we can easily implement Regular Expression Stemmer algorithms. It basically takes a single regular expression and removes any prefix or suffix that matches the expression.\n",
    "Ref : https://www.tutorialspoint.com/natural_language_toolkit/natural_language_toolkit_stemming_lemmatization.htm"
   ]
  },
  {
   "cell_type": "code",
   "execution_count": 53,
   "id": "ecea3eae",
   "metadata": {},
   "outputs": [],
   "source": [
    "from nltk.stem import RegexpStemmer"
   ]
  },
  {
   "cell_type": "code",
   "execution_count": 54,
   "id": "39f52bd3",
   "metadata": {},
   "outputs": [],
   "source": [
    "regex_Stemmer = RegexpStemmer('ing$|s$|ed$', min=4)"
   ]
  },
  {
   "cell_type": "code",
   "execution_count": 55,
   "id": "30211f62",
   "metadata": {},
   "outputs": [
    {
     "data": {
      "text/plain": [
       "'runn'"
      ]
     },
     "execution_count": 55,
     "metadata": {},
     "output_type": "execute_result"
    }
   ],
   "source": [
    "regex_Stemmer.stem(\"eating\")  \n",
    "regex_Stemmer.stem(\"running\")  "
   ]
  },
  {
   "cell_type": "markdown",
   "id": "3eddf176",
   "metadata": {},
   "source": [
    "**NLTK** has **SnowballStemmer** class with the help of which we can easily implement Snowball Stemmer algorithms. It supports 15 non-English languages. In order to use this steaming class, we need to create an instance with the name of the language we are using and then call the stem() method. "
   ]
  },
  {
   "cell_type": "code",
   "execution_count": 56,
   "id": "d12b4a1a",
   "metadata": {},
   "outputs": [],
   "source": [
    "from nltk.stem import SnowballStemmer"
   ]
  },
  {
   "cell_type": "code",
   "execution_count": 57,
   "id": "eb3e4753",
   "metadata": {},
   "outputs": [
    {
     "name": "stdout",
     "output_type": "stream",
     "text": [
      "run\n"
     ]
    }
   ],
   "source": [
    "snow_ball_stemmer = SnowballStemmer(\"english\")\n",
    "print(snow_ball_stemmer.stem(\"running\"))"
   ]
  },
  {
   "cell_type": "code",
   "execution_count": null,
   "id": "0aace2a2",
   "metadata": {},
   "outputs": [],
   "source": [
    "for word in words:\n",
    "    print(word + \"------------------>\" + snow_ball_stemmer.stem(word))"
   ]
  }
 ],
 "metadata": {
  "kernelspec": {
   "display_name": "base",
   "language": "python",
   "name": "python3"
  },
  "language_info": {
   "codemirror_mode": {
    "name": "ipython",
    "version": 3
   },
   "file_extension": ".py",
   "mimetype": "text/x-python",
   "name": "python",
   "nbconvert_exporter": "python",
   "pygments_lexer": "ipython3",
   "version": "3.13.5"
  }
 },
 "nbformat": 4,
 "nbformat_minor": 5
}
