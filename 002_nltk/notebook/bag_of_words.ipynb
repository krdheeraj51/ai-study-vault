{
 "cells": [
  {
   "cell_type": "markdown",
   "id": "d721a201",
   "metadata": {},
   "source": [
    "### Bag of Words (BOW)\n",
    "---\n",
    "\n",
    "Represents text as a vector of word counts\n",
    "\n",
    "---"
   ]
  },
  {
   "cell_type": "code",
   "execution_count": 2,
   "id": "8e0459ee",
   "metadata": {},
   "outputs": [
    {
     "name": "stdout",
     "output_type": "stream",
     "text": [
      "[[1 1 1 0]\n",
      " [0 1 1 1]]\n",
      "['fun' 'is' 'nlp' 'powerful']\n"
     ]
    }
   ],
   "source": [
    "from sklearn.feature_extraction.text import CountVectorizer\n",
    "corpus=  [\"NLP is fun.\",\"NLP is powerful.\"]\n",
    "vectorizer= CountVectorizer()\n",
    "x= vectorizer.fit_transform(corpus)\n",
    "print(x.toarray())\n",
    "print(vectorizer.get_feature_names_out())\n"
   ]
  }
 ],
 "metadata": {
  "kernelspec": {
   "display_name": "base",
   "language": "python",
   "name": "python3"
  },
  "language_info": {
   "codemirror_mode": {
    "name": "ipython",
    "version": 3
   },
   "file_extension": ".py",
   "mimetype": "text/x-python",
   "name": "python",
   "nbconvert_exporter": "python",
   "pygments_lexer": "ipython3",
   "version": "3.13.5"
  }
 },
 "nbformat": 4,
 "nbformat_minor": 5
}
